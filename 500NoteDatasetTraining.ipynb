{
  "nbformat": 4,
  "nbformat_minor": 0,
  "metadata": {
    "kernelspec": {
      "name": "python3",
      "display_name": "Python 3"
    },
    "colab": {
      "name": "500notedataset.ipynb",
      "provenance": [],
      "collapsed_sections": [],
      "include_colab_link": true
    },
    "accelerator": "GPU"
  },
  "cells": [
    {
      "cell_type": "markdown",
      "metadata": {
        "id": "view-in-github",
        "colab_type": "text"
      },
      "source": [
        "<a href=\"https://colab.research.google.com/github/mittalsaurab/FakeCurrencyRecognition/blob/master/500NoteDatasetTraining.ipynb\" target=\"_parent\"><img src=\"https://colab.research.google.com/assets/colab-badge.svg\" alt=\"Open In Colab\"/></a>"
      ]
    },
    {
      "cell_type": "code",
      "metadata": {
        "id": "8jjr5NrHIMA_",
        "colab_type": "code",
        "colab": {
          "base_uri": "https://localhost:8080/",
          "height": 118
        },
        "outputId": "52c60ba0-2b97-46c1-df6a-9a545bbbd8b4"
      },
      "source": [
        "from google.colab import drive\n",
        "drive.mount('/content/drive')"
      ],
      "execution_count": 1,
      "outputs": [
        {
          "output_type": "stream",
          "text": [
            "Go to this URL in a browser: https://accounts.google.com/o/oauth2/auth?client_id=947318989803-6bn6qk8qdgf4n4g3pfee6491hc0brc4i.apps.googleusercontent.com&redirect_uri=urn%3aietf%3awg%3aoauth%3a2.0%3aoob&response_type=code&scope=email%20https%3a%2f%2fwww.googleapis.com%2fauth%2fdocs.test%20https%3a%2f%2fwww.googleapis.com%2fauth%2fdrive%20https%3a%2f%2fwww.googleapis.com%2fauth%2fdrive.photos.readonly%20https%3a%2f%2fwww.googleapis.com%2fauth%2fpeopleapi.readonly\n",
            "\n",
            "Enter your authorization code:\n",
            "··········\n",
            "Mounted at /content/drive\n"
          ],
          "name": "stdout"
        }
      ]
    },
    {
      "cell_type": "code",
      "metadata": {
        "id": "oQ28a60yWvsi",
        "colab_type": "code",
        "colab": {
          "base_uri": "https://localhost:8080/",
          "height": 33
        },
        "outputId": "43b79589-f45f-43f2-eb82-64298460b659"
      },
      "source": [
        "cd drive/My\\ Drive/Colab\\ Notebooks/FakeCurrencyIdentification"
      ],
      "execution_count": 2,
      "outputs": [
        {
          "output_type": "stream",
          "text": [
            "/content/drive/My Drive/Colab Notebooks/FakeCurrencyIdentification\n"
          ],
          "name": "stdout"
        }
      ]
    },
    {
      "cell_type": "code",
      "metadata": {
        "id": "wFEThTSyXDPq",
        "colab_type": "code",
        "colab": {}
      },
      "source": [
        "import numpy as np"
      ],
      "execution_count": 3,
      "outputs": []
    },
    {
      "cell_type": "code",
      "metadata": {
        "id": "Ab7kgz5IWree",
        "colab_type": "code",
        "colab": {}
      },
      "source": [
        "images = []\n",
        "labels  = []"
      ],
      "execution_count": 4,
      "outputs": []
    },
    {
      "cell_type": "code",
      "metadata": {
        "id": "6vylpz_CWreo",
        "colab_type": "code",
        "colab": {}
      },
      "source": [
        "import os\n",
        "import numpy as np\n",
        "import cv2\n",
        "\n",
        "# this will be the function used to resize and grayscale the the raw input image\n",
        "def resize(img):\n",
        "    img = cv2.resize(img, (224, 224), interpolation = cv2.INTER_AREA)\n",
        "    return img\n",
        "\n",
        "def perCentreMean(img):\n",
        "    # img = np.swapaxes(np.swapaxes(img, 1, 2), 0, 1)\n",
        "    # img = img - IMAGE_MEAN\n",
        "    return img\n",
        "\n",
        "# for efficient memory storage :\n",
        "# since the numbers are between 0 and 255, numpy's int16 datatype can be used\n",
        "# secondly, we need to flatten the image array to store it efficiently ad row-major\n",
        "# so for that, we will numpy's use numpy's ravel function with 'copy' flag = False\n",
        "def generateDataForImages():\n",
        "    \n",
        "    noOfRows = 224\n",
        "    noOfCols = 224\n",
        "    \n",
        "    # first all real currency notes' images and then all the fake ones'\n",
        "    # i am skeptical of the consequences :-/\n",
        "    label = 1\n",
        "    inputArray = False\n",
        "    \n",
        "    for directory in ['500 Testing/New Real 4/', '500 Testing/New Fake 4/']:\n",
        "        for filename in os.listdir(directory):\n",
        "            img = cv2.imread(directory + filename)\n",
        "            img = resize(img)\n",
        "            \n",
        "            # TRANSLATIONS\n",
        "            # will produce (6 + 6 + 1) x (6 + 6 + 1) = 169 images\n",
        "            # stride of 5 pixels along both axis along all 4 directions\n",
        "            for x in range(30, -35, -5):\n",
        "                for y in range(30, -35, -5):\n",
        "                    translationMatrix = np.float32([ [1,0,x], [0,1,y] ])\n",
        "                    imgTrns = cv2.warpAffine(img, translationMatrix, (noOfCols, noOfRows))\n",
        "                    imgTrns = perCentreMean(imgTrns)\n",
        "                    images.append(imgTrns)\n",
        "                    labels.append(np.int32([label]))\n",
        "\n",
        "            # ROTATIONS\n",
        "            # we produce 41 different angles in the range of -10 to 10\n",
        "            # with the step being equal to 0.5\n",
        "            for angle in range(20, -21, -1):\n",
        "                rotationMatrix = cv2.getRotationMatrix2D((noOfCols/2, noOfRows/2), float(angle)/2, 1)\n",
        "                imgRotated = cv2.warpAffine(img, rotationMatrix, (noOfCols, noOfRows))\n",
        "                imgRotated = perCentreMean(imgRotated)\n",
        "                images.append(imgRotated)\n",
        "                labels.append(np.int32([label]))\n",
        "\n",
        "            # PROJECTIVE TRANSFORMATIONS for ZOOMING IN AND ZOOMING OUT\n",
        "            # will produce (30 + 30) images for the dataset\n",
        "            # 1ST ZOOMING IN ...\n",
        "            for step in np.arange(0.001, 0.031, 0.001):\n",
        "                srcPoints = np.float32([[int(step*(noOfCols-1)),int(step*(noOfRows-1))], [int((1-step)*(noOfCols-1)),int(step*(noOfRows-1))], [int(step*(noOfCols-1)),int((1-step)*(noOfRows-1))], [int((1-step)*(noOfCols-1)), int((1-step)*(noOfRows-1))]])\n",
        "                dstPoints = np.float32([[0,0], [noOfCols-1,0], [0,noOfRows-1], [noOfCols-1,noOfRows-1]]) \n",
        "                projective_matrix = cv2.getPerspectiveTransform(srcPoints, dstPoints)\n",
        "                imgZoomed = cv2.warpPerspective(img, projective_matrix, (noOfCols,noOfRows))\n",
        "                imgZoomed = perCentreMean(imgZoomed)\n",
        "                images.append(imgZoomed)\n",
        "                labels.append(np.int32([label]))\n",
        "            # 2ND ZOOMING OUT ...\n",
        "            for step in np.arange(0.001, 0.031, 0.001):\n",
        "                srcPoints = np.float32(np.float32([[0,0], [noOfCols-1,0], [0,noOfRows-1], [noOfCols-1,noOfRows-1]]))\n",
        "                dstPoints = np.float32([[int(step*(noOfCols-1)),int(step*(noOfRows-1))], [int((1-step)*(noOfCols-1)),int(step*(noOfRows-1))], [int(step*(noOfCols-1)),int((1-step)*(noOfRows-1))], [int((1-step)*(noOfCols-1)), int((1-step)*(noOfRows-1))]]) \n",
        "                projective_matrix = cv2.getPerspectiveTransform(srcPoints, dstPoints)\n",
        "                imgZoomed = cv2.warpPerspective(img, projective_matrix, (noOfCols,noOfRows))\n",
        "                imgZoomed = perCentreMean(imgZoomed)\n",
        "                images.append(imgZoomed)\n",
        "                labels.append(np.int32([label]))\n",
        "\n",
        "        # set label for fake images to come\n",
        "        label = 0"
      ],
      "execution_count": 5,
      "outputs": []
    },
    {
      "cell_type": "code",
      "metadata": {
        "id": "M42mCghhWrex",
        "colab_type": "code",
        "colab": {}
      },
      "source": [
        "generateDataForImages()"
      ],
      "execution_count": 6,
      "outputs": []
    },
    {
      "cell_type": "code",
      "metadata": {
        "id": "1y4HmC-KWre8",
        "colab_type": "code",
        "colab": {
          "base_uri": "https://localhost:8080/",
          "height": 50
        },
        "outputId": "07808e74-1d4e-4997-e228-cbaa95f32939"
      },
      "source": [
        "# file.close()\n",
        "print(len(images))\n",
        "print(len(labels))"
      ],
      "execution_count": 7,
      "outputs": [
        {
          "output_type": "stream",
          "text": [
            "7020\n",
            "7020\n"
          ],
          "name": "stdout"
        }
      ]
    },
    {
      "cell_type": "code",
      "metadata": {
        "id": "OzO_ikGxPMQh",
        "colab_type": "code",
        "colab": {}
      },
      "source": [
        "import random\n",
        "temp = list(zip(images, labels)) \n",
        "random.shuffle(temp) \n",
        "Xdata, ydata = zip(*temp) "
      ],
      "execution_count": 8,
      "outputs": []
    },
    {
      "cell_type": "code",
      "metadata": {
        "id": "_8veMK8lQVsK",
        "colab_type": "code",
        "colab": {}
      },
      "source": [
        "Xdata = np.array(Xdata)\n",
        "ydata = np.array(ydata)"
      ],
      "execution_count": 9,
      "outputs": []
    },
    {
      "cell_type": "code",
      "metadata": {
        "id": "H4K8DNgjRL_N",
        "colab_type": "code",
        "colab": {}
      },
      "source": [
        "n = len(Xdata)\n",
        "Xtrain = Xdata[:int(0.9*n)]\n",
        "# Xval = Xdata[int(0.7*n):int(0.9*n)]\n",
        "Xtest = Xdata[int(0.9*n):]\n",
        "\n",
        "ytrain = ydata[:int(0.9*n)]\n",
        "# yval = ydata[int(0.7*n):int(0.9*n)]\n",
        "ytest = ydata[int(0.9*n):]\n",
        "\n",
        "from keras.utils import to_categorical\n",
        "\n",
        "ytrain = to_categorical(ytrain)\n",
        "# yval = to_categorical(yval)\n",
        "ytest = to_categorical(ytest)"
      ],
      "execution_count": 11,
      "outputs": []
    },
    {
      "cell_type": "code",
      "metadata": {
        "id": "KUAWuAgFR5o6",
        "colab_type": "code",
        "colab": {
          "base_uri": "https://localhost:8080/",
          "height": 33
        },
        "outputId": "471e284d-8284-446a-e3e8-ce824eec1586"
      },
      "source": [
        "Xtrain.shape"
      ],
      "execution_count": 12,
      "outputs": [
        {
          "output_type": "execute_result",
          "data": {
            "text/plain": [
              "(6318, 224, 224, 3)"
            ]
          },
          "metadata": {
            "tags": []
          },
          "execution_count": 12
        }
      ]
    },
    {
      "cell_type": "code",
      "metadata": {
        "id": "G3QzEiA8R9__",
        "colab_type": "code",
        "colab": {}
      },
      "source": [
        "from keras.applications import vgg16\n",
        "from keras.models import Sequential,Model\n",
        "from keras.layers import Dense, Flatten,Input,GlobalAveragePooling2D,Dropout\n",
        "from keras.optimizers import Adam"
      ],
      "execution_count": 13,
      "outputs": []
    },
    {
      "cell_type": "code",
      "metadata": {
        "id": "rUkaJBb6Sgkh",
        "colab_type": "code",
        "colab": {
          "base_uri": "https://localhost:8080/",
          "height": 66
        },
        "outputId": "8c7703ed-7194-46b5-801d-ae4472496d1d"
      },
      "source": [
        "vgg_conv = vgg16.VGG16(weights='imagenet', include_top=False, input_shape=(224, 224,3))\n",
        "len(vgg_conv.layers)"
      ],
      "execution_count": 14,
      "outputs": [
        {
          "output_type": "stream",
          "text": [
            "Downloading data from https://storage.googleapis.com/tensorflow/keras-applications/vgg16/vgg16_weights_tf_dim_ordering_tf_kernels_notop.h5\n",
            "58892288/58889256 [==============================] - 1s 0us/step\n"
          ],
          "name": "stdout"
        },
        {
          "output_type": "execute_result",
          "data": {
            "text/plain": [
              "19"
            ]
          },
          "metadata": {
            "tags": []
          },
          "execution_count": 14
        }
      ]
    },
    {
      "cell_type": "code",
      "metadata": {
        "id": "Z_m4zI6bSg5M",
        "colab_type": "code",
        "colab": {}
      },
      "source": [
        "for layer in vgg_conv.layers[:]:\n",
        "    layer.trainable = False\n"
      ],
      "execution_count": 15,
      "outputs": []
    },
    {
      "cell_type": "code",
      "metadata": {
        "id": "Bn1CGf6RSjhp",
        "colab_type": "code",
        "colab": {}
      },
      "source": [
        "l2 = GlobalAveragePooling2D()(vgg_conv.output)\n",
        "l3 = Dense(256,activation='relu')(l2)\n",
        "l4 = Dropout(0.5)(l3)\n",
        "l5 = Dense(2,activation='softmax')(l4)\n",
        "\n",
        "final_model = Model(vgg_conv.input,l5)"
      ],
      "execution_count": 16,
      "outputs": []
    },
    {
      "cell_type": "code",
      "metadata": {
        "id": "QW4HEKsISl58",
        "colab_type": "code",
        "colab": {
          "base_uri": "https://localhost:8080/",
          "height": 33
        },
        "outputId": "6b3c0340-41b9-4893-cf9c-268a2ba05a49"
      },
      "source": [
        "from keras.callbacks import EarlyStopping,ModelCheckpoint,ReduceLROnPlateau\n",
        "rr = ReduceLROnPlateau(monitor='val_loss',factor=0.1,patience=1,min_lr = 0.00000001)\n",
        "# er = EarlyStopping(monitor='val_loss',patience = 2,verbose=1)\n",
        "mc = ModelCheckpoint(\"model_weights.hdf5\",monitor='val_loss',save_best_only=True,period=1)"
      ],
      "execution_count": 17,
      "outputs": [
        {
          "output_type": "stream",
          "text": [
            "WARNING:tensorflow:`period` argument is deprecated. Please use `save_freq` to specify the frequency in number of batches seen.\n"
          ],
          "name": "stdout"
        }
      ]
    },
    {
      "cell_type": "code",
      "metadata": {
        "id": "6m4qzvhfSptH",
        "colab_type": "code",
        "colab": {}
      },
      "source": [
        "adam = Adam(lr=0.0003)\n",
        "final_model.compile(loss='categorical_crossentropy',optimizer=adam,metrics=['accuracy'])"
      ],
      "execution_count": 18,
      "outputs": []
    },
    {
      "cell_type": "code",
      "metadata": {
        "id": "rnnkc5U5SriU",
        "colab_type": "code",
        "colab": {
          "base_uri": "https://localhost:8080/",
          "height": 687
        },
        "outputId": "8a7e8208-9c66-4372-bceb-f38e14a77944"
      },
      "source": [
        "hist = final_model.fit(Xtrain,ytrain,epochs = 10, batch_size = 16,callbacks=[rr,mc])\n"
      ],
      "execution_count": 20,
      "outputs": [
        {
          "output_type": "stream",
          "text": [
            "Epoch 1/10\n",
            "395/395 [==============================] - ETA: 0s - loss: 0.9031 - accuracy: 0.6792WARNING:tensorflow:Reduce LR on plateau conditioned on metric `val_loss` which is not available. Available metrics are: loss,accuracy,lr\n",
            "WARNING:tensorflow:Can save best model only with val_loss available, skipping.\n",
            "395/395 [==============================] - 50s 127ms/step - loss: 0.9031 - accuracy: 0.6792\n",
            "Epoch 2/10\n",
            "395/395 [==============================] - ETA: 0s - loss: 0.3753 - accuracy: 0.8253WARNING:tensorflow:Reduce LR on plateau conditioned on metric `val_loss` which is not available. Available metrics are: loss,accuracy,lr\n",
            "WARNING:tensorflow:Can save best model only with val_loss available, skipping.\n",
            "395/395 [==============================] - 49s 123ms/step - loss: 0.3753 - accuracy: 0.8253\n",
            "Epoch 3/10\n",
            "395/395 [==============================] - ETA: 0s - loss: 0.2868 - accuracy: 0.8686WARNING:tensorflow:Reduce LR on plateau conditioned on metric `val_loss` which is not available. Available metrics are: loss,accuracy,lr\n",
            "WARNING:tensorflow:Can save best model only with val_loss available, skipping.\n",
            "395/395 [==============================] - 49s 123ms/step - loss: 0.2868 - accuracy: 0.8686\n",
            "Epoch 4/10\n",
            "395/395 [==============================] - ETA: 0s - loss: 0.2234 - accuracy: 0.9031WARNING:tensorflow:Reduce LR on plateau conditioned on metric `val_loss` which is not available. Available metrics are: loss,accuracy,lr\n",
            "WARNING:tensorflow:Can save best model only with val_loss available, skipping.\n",
            "395/395 [==============================] - 49s 124ms/step - loss: 0.2234 - accuracy: 0.9031\n",
            "Epoch 5/10\n",
            "395/395 [==============================] - ETA: 0s - loss: 0.1868 - accuracy: 0.9194WARNING:tensorflow:Reduce LR on plateau conditioned on metric `val_loss` which is not available. Available metrics are: loss,accuracy,lr\n",
            "WARNING:tensorflow:Can save best model only with val_loss available, skipping.\n",
            "395/395 [==============================] - 49s 124ms/step - loss: 0.1868 - accuracy: 0.9194\n",
            "Epoch 6/10\n",
            "395/395 [==============================] - ETA: 0s - loss: 0.1566 - accuracy: 0.9330WARNING:tensorflow:Reduce LR on plateau conditioned on metric `val_loss` which is not available. Available metrics are: loss,accuracy,lr\n",
            "WARNING:tensorflow:Can save best model only with val_loss available, skipping.\n",
            "395/395 [==============================] - 49s 124ms/step - loss: 0.1566 - accuracy: 0.9330\n",
            "Epoch 7/10\n",
            "395/395 [==============================] - ETA: 0s - loss: 0.1434 - accuracy: 0.9403WARNING:tensorflow:Reduce LR on plateau conditioned on metric `val_loss` which is not available. Available metrics are: loss,accuracy,lr\n",
            "WARNING:tensorflow:Can save best model only with val_loss available, skipping.\n",
            "395/395 [==============================] - 49s 124ms/step - loss: 0.1434 - accuracy: 0.9403\n",
            "Epoch 8/10\n",
            "395/395 [==============================] - ETA: 0s - loss: 0.1370 - accuracy: 0.9380WARNING:tensorflow:Reduce LR on plateau conditioned on metric `val_loss` which is not available. Available metrics are: loss,accuracy,lr\n",
            "WARNING:tensorflow:Can save best model only with val_loss available, skipping.\n",
            "395/395 [==============================] - 49s 124ms/step - loss: 0.1370 - accuracy: 0.9380\n",
            "Epoch 9/10\n",
            "395/395 [==============================] - ETA: 0s - loss: 0.1201 - accuracy: 0.9457WARNING:tensorflow:Reduce LR on plateau conditioned on metric `val_loss` which is not available. Available metrics are: loss,accuracy,lr\n",
            "WARNING:tensorflow:Can save best model only with val_loss available, skipping.\n",
            "395/395 [==============================] - 49s 125ms/step - loss: 0.1201 - accuracy: 0.9457\n",
            "Epoch 10/10\n",
            "395/395 [==============================] - ETA: 0s - loss: 0.1140 - accuracy: 0.9503WARNING:tensorflow:Reduce LR on plateau conditioned on metric `val_loss` which is not available. Available metrics are: loss,accuracy,lr\n",
            "WARNING:tensorflow:Can save best model only with val_loss available, skipping.\n",
            "395/395 [==============================] - 49s 124ms/step - loss: 0.1140 - accuracy: 0.9503\n"
          ],
          "name": "stdout"
        }
      ]
    },
    {
      "cell_type": "code",
      "metadata": {
        "id": "KD8IaqwYV388",
        "colab_type": "code",
        "colab": {
          "base_uri": "https://localhost:8080/",
          "height": 50
        },
        "outputId": "34e2f3c3-0091-4ee7-e489-8acd55712d5a"
      },
      "source": [
        "(l,acc) = final_model.evaluate(Xtest,ytest)\n",
        "print(\"Accuracy on validation dataset for 500 is : \"+str(acc))"
      ],
      "execution_count": 30,
      "outputs": [
        {
          "output_type": "stream",
          "text": [
            "22/22 [==============================] - 5s 215ms/step - loss: 0.0847 - accuracy: 0.9658\n",
            "Accuracy on validation dataset for 500 is : 0.9658119678497314\n"
          ],
          "name": "stdout"
        }
      ]
    },
    {
      "cell_type": "code",
      "metadata": {
        "id": "0-IH4Zp3SwlM",
        "colab_type": "code",
        "colab": {}
      },
      "source": [
        "final_model.save_weights(\"500_model.hdf5\")\n",
        "# final_model.load_weights(\"500_model.hdf5\");"
      ],
      "execution_count": 22,
      "outputs": []
    },
    {
      "cell_type": "code",
      "metadata": {
        "id": "qGJ9-u5sVxdk",
        "colab_type": "code",
        "colab": {}
      },
      "source": [
        ""
      ],
      "execution_count": 22,
      "outputs": []
    },
    {
      "cell_type": "code",
      "metadata": {
        "id": "EqBNKTqPV84Q",
        "colab_type": "code",
        "colab": {
          "base_uri": "https://localhost:8080/",
          "height": 33
        },
        "outputId": "204a6178-d8f5-44e5-d894-5ab780bcd63e"
      },
      "source": [
        "(l,acc) = final_model.evaluate(Xtest,ytest)"
      ],
      "execution_count": 23,
      "outputs": [
        {
          "output_type": "stream",
          "text": [
            "22/22 [==============================] - 7s 336ms/step - loss: 0.0847 - accuracy: 0.9658\n"
          ],
          "name": "stdout"
        }
      ]
    },
    {
      "cell_type": "code",
      "metadata": {
        "id": "z7eF_52lWDja",
        "colab_type": "code",
        "colab": {
          "base_uri": "https://localhost:8080/",
          "height": 33
        },
        "outputId": "53da0584-d930-49b9-a6fc-2c7f38abf059"
      },
      "source": [
        "acc"
      ],
      "execution_count": 24,
      "outputs": [
        {
          "output_type": "execute_result",
          "data": {
            "text/plain": [
              "0.9658119678497314"
            ]
          },
          "metadata": {
            "tags": []
          },
          "execution_count": 24
        }
      ]
    },
    {
      "cell_type": "code",
      "metadata": {
        "id": "nJtoBpjbW_Pu",
        "colab_type": "code",
        "colab": {}
      },
      "source": [
        "import matplotlib.pyplot as plt\n"
      ],
      "execution_count": 25,
      "outputs": []
    },
    {
      "cell_type": "code",
      "metadata": {
        "id": "EeI1yU3TM3nS",
        "colab_type": "code",
        "colab": {
          "base_uri": "https://localhost:8080/",
          "height": 301
        },
        "outputId": "17d76cb8-e8a6-47b3-8643-dbe77b444745"
      },
      "source": [
        "def decide(x):\n",
        "  if x:\n",
        "    return \"Real\"\n",
        "  else:\n",
        "    return \"Fake\"\n",
        "\n",
        "r = np.random.randint(4000)\n",
        "plt.imshow(Xtrain[r])\n",
        "print(\"Actual :\" + str(decide(np.argmax(ytrain[r]))))\n",
        "print(\"Predicted :\" + str(decide(np.argmax(final_model.predict(Xtrain[r:r+1])[0]))))"
      ],
      "execution_count": 26,
      "outputs": [
        {
          "output_type": "stream",
          "text": [
            "Actual :Fake\n",
            "Predicted :Fake\n"
          ],
          "name": "stdout"
        },
        {
          "output_type": "display_data",
          "data": {
            "image/png": "[encoded data removed]",
            "text/plain": [
              "<Figure size 432x288 with 1 Axes>"
            ]
          },
          "metadata": {
            "tags": [],
            "needs_background": "light"
          }
        }
      ]
    },
    {
      "cell_type": "code",
      "metadata": {
        "id": "fYnb2SofNRP7",
        "colab_type": "code",
        "colab": {}
      },
      "source": [
        "import sklearn.metrics as metrics\n",
        "confusion_matrix = metrics.confusion_matrix(ytrain.argmax(axis=1), final_model.predict(Xtrain).argmax(axis=1))"
      ],
      "execution_count": 27,
      "outputs": []
    },
    {
      "cell_type": "code",
      "metadata": {
        "id": "AHhKm5dkRey1",
        "colab_type": "code",
        "colab": {
          "base_uri": "https://localhost:8080/",
          "height": 66
        },
        "outputId": "9107dfeb-3c71-4696-d78e-a23413d6a4a1"
      },
      "source": [
        "print(\"Confusion matrix for 500 notes : \")\n",
        "print(confusion_matrix)"
      ],
      "execution_count": 28,
      "outputs": [
        {
          "output_type": "stream",
          "text": [
            "Confusion matrix for 500 notes : \n",
            "[[3142    6]\n",
            " [ 153 3017]]\n"
          ],
          "name": "stdout"
        }
      ]
    },
    {
      "cell_type": "code",
      "metadata": {
        "id": "RMeTfQvtRxbn",
        "colab_type": "code",
        "colab": {}
      },
      "source": [
        ""
      ],
      "execution_count": null,
      "outputs": []
    }
  ]
}